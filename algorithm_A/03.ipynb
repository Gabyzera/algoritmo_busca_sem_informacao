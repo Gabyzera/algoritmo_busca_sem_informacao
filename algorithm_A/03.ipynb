{
 "cells": [
  {
   "attachments": {},
   "cell_type": "markdown",
   "metadata": {},
   "source": [
    "## Questão 03\n",
    "Proponha e simule a busca de rotas de pelo menos duas outras cidades até Bucareste. Mostre o passo a passo do algoritmo buscando a solução."
   ]
  },
  {
   "cell_type": "code",
   "execution_count": null,
   "metadata": {},
   "outputs": [],
   "source": []
  }
 ],
 "metadata": {
  "language_info": {
   "name": "python"
  },
  "orig_nbformat": 4
 },
 "nbformat": 4,
 "nbformat_minor": 2
}
