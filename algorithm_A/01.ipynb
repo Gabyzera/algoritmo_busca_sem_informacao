{
 "cells": [
  {
   "attachments": {},
   "cell_type": "markdown",
   "metadata": {},
   "source": [
    "# Questão 01\n",
    "\n",
    "Implemente o Algoritmo A*, usando a Busca em Largura como modelo e usando uma fila de prioridade para a fronteira. Será necessário usar uma implementação de fila de prioridade."
   ]
  }
 ],
 "metadata": {
  "language_info": {
   "name": "python"
  },
  "orig_nbformat": 4
 },
 "nbformat": 4,
 "nbformat_minor": 2
}
