{
 "cells": [
  {
   "attachments": {},
   "cell_type": "markdown",
   "metadata": {},
   "source": [
    "# Questão 01\n",
    "\n",
    "Implemente o Algoritmo A*, usando a Busca em Largura como modelo e usando uma fila de prioridade para a fronteira. Será necessário usar uma implementação de fila de prioridade."
   ]
  },
  {
   "cell_type": "code",
   "execution_count": 3,
   "metadata": {},
   "outputs": [],
   "source": [
    "import heapq\n",
    "\n",
    "class No:\n",
    "    def __init__(self, estado, pais = None, custo = 0, heuristico = 0, sequencia = 0):\n",
    "        self.estado = estado\n",
    "        self.pais = pais\n",
    "        self.custo = custo\n",
    "        self.heuristico = heuristico\n",
    "        self.sequencia = sequencia\n",
    "        \n",
    "    def __lt__(self, outro):\n",
    "        if self.custo + self.heuristico == outro.custo + outro.heuristico:\n",
    "            return self.sequencia < outro.sequencia\n",
    "        return self.custo + self.heuristico < outro.custo + outro.heuristico\n",
    "\n",
    "def a_star_busca(start_estado, goal_estado, get_vizinhos, heuristico):\n",
    "    start_no = No(start_estado, None, 0, heuristico(start_estado), 0)\n",
    "    fronteira = []\n",
    "    heapq.heappush(fronteira, start_no)\n",
    "    explorado = set()\n",
    "    sequencia = 0\n",
    "\n",
    "    while fronteira:\n",
    "        atual_no = heapq.heappop(fronteira)\n",
    "        atual_estado = atual_no.estado\n",
    "\n",
    "        if atual_estado == goal_estado:\n",
    "            return reconstruir_caminho(atual_no)\n",
    "\n",
    "        explorado.add(atual_estado)\n",
    "\n",
    "        vizinhos = get_vizinhos(atual_estado)\n",
    "        for vizinho_estado, step_custo in vizinhos:\n",
    "            if vizinho_estado not in explorado:\n",
    "                vizinho_custo = atual_no.custo + step_custo\n",
    "                vizinho_heuristico = heuristico(vizinho_estado)\n",
    "                sequencia += 1\n",
    "                vizinho_no = No(vizinho_estado, atual_no, vizinho_custo, vizinho_heuristico, sequencia)\n",
    "                heapq.heappush(fronteira, vizinho_no)\n",
    "\n",
    "    return None\n",
    "\n",
    "def reconstruir_caminho(no):\n",
    "    caminho = []\n",
    "    atual_no = no\n",
    "    while atual_no:\n",
    "        caminho.append(atual_no.estado)\n",
    "        atual_no = atual_no.pais\n",
    "    return list(reversed(caminho))"
   ]
  }
 ],
 "metadata": {
  "kernelspec": {
   "display_name": "Python 3",
   "language": "python",
   "name": "python3"
  },
  "language_info": {
   "codemirror_mode": {
    "name": "ipython",
    "version": 3
   },
   "file_extension": ".py",
   "mimetype": "text/x-python",
   "name": "python",
   "nbconvert_exporter": "python",
   "pygments_lexer": "ipython3",
   "version": "3.10.11"
  },
  "orig_nbformat": 4
 },
 "nbformat": 4,
 "nbformat_minor": 2
}
