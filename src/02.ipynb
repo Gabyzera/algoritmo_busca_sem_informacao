{
 "cells": [
  {
   "attachments": {},
   "cell_type": "markdown",
   "metadata": {},
   "source": [
    "# Questão 2\n",
    "Usando a implementação de busca em largura que foi vista no vídeo como base, crie uma implementação similar para a busca em profundidade. O video sobre busca em profundidade explica qual alteração deve ser feita. Se o grupo preferir usar outra linguagem, pode portar o código que foi desenvolvido nas aulas para outra linguagem, e implementar a busca em profundidade. A implementação deve seguir o modelo da busca em largura e ter uma função que permita executar apenas um passo da busca de cada vez."
   ]
  },
  {
   "cell_type": "code",
   "execution_count": 53,
   "metadata": {},
   "outputs": [],
   "source": [
    "def acao(destino, custo):\n",
    "  return {'destino': destino, 'custo': custo}\n",
    "\n",
    "#definicao dos estados da Romenia com as cidades e as cidades conectadas a cada uma\n",
    "estados_romenia = [\n",
    "  {'estado': 'Arad',\n",
    "    'acoes': [acao('Zerind', 75), acao('Sibiu', 140), acao('Timisoara', 118)]},\n",
    "  {'estado': 'Zerind',\n",
    "    'acoes': [acao('Arad', 75), acao('Oradea', 71)]},\n",
    "  {'estado': 'Sibiu',\n",
    "    'acoes': [acao('Arad', 140), acao('Oradea', 151), acao('Fagaras', 99), acao('Rimnicu Vilcea', 80)]},\n",
    "  {'estado': 'Timisoara',\n",
    "    'acoes': [acao('Arad', 118), acao('Lugoj', 111)]},\n",
    "  {'estado': 'Oradea',\n",
    "    'acoes': [acao('Zerind', 71), acao('Sibiu', 151)]},\n",
    "  {'estado': 'Fagaras',\n",
    "    'acoes': [acao('Sibiu', 99), acao('Bucharest', 211)]},\n",
    "  {'estado': 'Rimnicu Vilcea',\n",
    "    'acoes': [acao('Sibiu', 80), acao('Craiova', 146), acao('Pitesti', 97)]},\n",
    "  {'estado': 'Lugoj',\n",
    "    'acoes': [acao('Timisoara', 111), acao('Mehadia', 70)]},\n",
    "  {'estado':'Bucharest',\n",
    "    'acoes': [acao('Fagaras', 211), acao('Pitesti', 101), acao('Giurgiu', 90), acao('Urziceni', 85)]},\n",
    "  {'estado': 'Craiova',\n",
    "    'acoes': [acao('Drobeta', 120), acao('Rimnicu Vilcea', 146), acao('Pitesti', 138)]},\n",
    "  {'estado': 'Pitesti',\n",
    "    'acoes': [acao('Craiova', 138), acao('Rimnicu Vilcea', 97), acao('Bucharest', 101)]},\n",
    "  {'estado': 'Mehadia',\n",
    "    'acoes': [acao('Lugoj', 70), acao('Drobeta', 75)]},\n",
    "  {'estado': 'Giurgiu', \n",
    "    'acoes': [acao('Bucharest', 90)]},\n",
    "  {'estado': 'Urziceni',\n",
    "    'acoes': [acao('Bucharest', 85), acao('Vaslui', 142), acao('Hirsova', 98)]},\n",
    "  {'estado': 'Vaslui',\n",
    "    'acoes': [acao('Urziceni', 142), acao('Iasi', 92)]},\n",
    "  {'estado': 'Iasi',\n",
    "    'acoes': [acao('Vaslui', 92), acao('Neamt', 87)]}, \n",
    "  {'evento': 'Neamt',\n",
    "    'acoes': [acao('Iasi', 87)]}]\n",
    "\n",
    "class No:\n",
    "  def __init__(self, estado, custo, pai, acao):\n",
    "    self.estado =  estado\n",
    "    self.custo = custo\n",
    "    self.pai = pai\n",
    "    self.acao = acao\n",
    "  \n",
    "  def __str__(self):\n",
    "    return f'({self.estado}, {self.custo})'\n",
    "  \n",
    "  def __repr__(self):\n",
    "    return self.__str__()\n",
    "  \n",
    "  def filhos(self, problema):\n",
    "    espaco_acoes = next(e for e in problema.espaco_estados if e['estado'] == self.estado)\n",
    "    \n",
    "    resultado = []\n",
    "    for acao in espaco_acoes['acoes']:\n",
    "      filho = No(acao['destino'], self.custo + acao['custo'], self, acao['destino'])\n",
    "      resultado.append(filho)\n",
    "      \n",
    "    return resultado\n",
    "  \n",
    "  def constroi_solucao(self):\n",
    "    no_atual = self \n",
    "    solucao = [no_atual]\n",
    "    while no_atual.pai != None:\n",
    "      no_atual = no_atual.pai\n",
    "      solucao.insert(0, no_atual)\n",
    "    return solucao\n",
    "    \n",
    "class Problema:\n",
    "  def __init__(self, espaco_estados, inicial, objetivo):\n",
    "    self.espaco_estados = espaco_estados\n",
    "    self.inicial = inicial\n",
    "    self.objetivo = objetivo\n",
    "    \n",
    "busca_iniciando = 0\n",
    "busca_falha = 1\n",
    "busca_sucesso = 2\n",
    "busca_em_curso = 3\n",
    "\n",
    "class BuscaProfundidade:\n",
    "  def __init__(self, problema):\n",
    "    self.problema = problema\n",
    "    self.fronteira = [problema.inicial]\n",
    "    self.visitados = [problema.inicial.estado]\n",
    "    self.solucao = []\n",
    "    self.situacao = busca_iniciando\n",
    "    \n",
    "  def executar(self):\n",
    "        while self.situacao != busca_falha and self.situacao != busca_sucesso:\n",
    "            self.passo_busca()\n",
    "\n",
    "        if self.situacao == busca_falha:\n",
    "            print(\"Busca falhou!\")\n",
    "            \n",
    "        elif self.situacao == busca_sucesso:\n",
    "            print(\"Busca teve sucesso!\")\n",
    "            print(f\"Solucao: {self.solucao}\")\n",
    "            \n",
    "        return \n",
    "          \n",
    "  def passo_busca(self):\n",
    "    if (self.situacao == busca_falha):\n",
    "      print(\"Busca falhou!\")\n",
    "      return\n",
    "    \n",
    "    if (self.situacao == busca_sucesso):\n",
    "      print(\"Busca chegou ao objetivo com sucesso!\")\n",
    "      return\n",
    "    \n",
    "    try: \n",
    "      # utilizacao do pop para fila FIFO\n",
    "      no = self.fronteira.pop(-1)\n",
    "    except IndexError:\n",
    "      self.situacao = busca_falha \n",
    "      return\n",
    "    \n",
    "    # faz teste do objetivo \n",
    "    if self.problema.objetivo(no):\n",
    "      self.situacao = busca_sucesso\n",
    "      self.solucao = no.constroi_solucao()\n",
    "      return \n",
    "      \n",
    "    # obtem os filhos do no \n",
    "    for filho in no.filhos(self.problema):\n",
    "      if (filho not in self.fronteira) and (filho.estado not in self.visitados):\n",
    "        self.fronteira.append(filho)\n",
    "        self.visitados.append(filho.estado)\n",
    "\n",
    "no_arad = No('Arad', 0, None, None)\n",
    "problema_romenia = Problema(estados_romenia, \n",
    "                            no_arad,\n",
    "                            lambda no: no.estado == 'Oradea')\n",
    "      "
   ]
  },
  {
   "cell_type": "code",
   "execution_count": 54,
   "metadata": {},
   "outputs": [
    {
     "data": {
      "text/plain": [
       "(Arad, 0)"
      ]
     },
     "execution_count": 54,
     "metadata": {},
     "output_type": "execute_result"
    }
   ],
   "source": [
    "no_arad"
   ]
  },
  {
   "cell_type": "code",
   "execution_count": 55,
   "metadata": {},
   "outputs": [
    {
     "data": {
      "text/plain": [
       "<__main__.Problema at 0x1aa7fee1490>"
      ]
     },
     "execution_count": 55,
     "metadata": {},
     "output_type": "execute_result"
    }
   ],
   "source": [
    "problema_romenia"
   ]
  },
  {
   "cell_type": "code",
   "execution_count": 56,
   "metadata": {},
   "outputs": [],
   "source": [
    "busca = BuscaProfundidade(problema_romenia)"
   ]
  },
  {
   "cell_type": "code",
   "execution_count": 57,
   "metadata": {},
   "outputs": [
    {
     "data": {
      "text/plain": [
       "<__main__.BuscaProfundidade at 0x1aa00602650>"
      ]
     },
     "execution_count": 57,
     "metadata": {},
     "output_type": "execute_result"
    }
   ],
   "source": [
    "busca"
   ]
  },
  {
   "cell_type": "code",
   "execution_count": 58,
   "metadata": {},
   "outputs": [
    {
     "data": {
      "text/plain": [
       "(Arad, 0)"
      ]
     },
     "execution_count": 58,
     "metadata": {},
     "output_type": "execute_result"
    }
   ],
   "source": [
    "busca.problema.inicial"
   ]
  },
  {
   "cell_type": "code",
   "execution_count": 59,
   "metadata": {},
   "outputs": [
    {
     "data": {
      "text/plain": [
       "'Arad'"
      ]
     },
     "execution_count": 59,
     "metadata": {},
     "output_type": "execute_result"
    }
   ],
   "source": [
    "busca.problema.inicial.estado"
   ]
  },
  {
   "cell_type": "code",
   "execution_count": 60,
   "metadata": {},
   "outputs": [
    {
     "data": {
      "text/plain": [
       "[(Arad, 0)]"
      ]
     },
     "execution_count": 60,
     "metadata": {},
     "output_type": "execute_result"
    }
   ],
   "source": [
    "busca.fronteira"
   ]
  },
  {
   "cell_type": "code",
   "execution_count": 61,
   "metadata": {},
   "outputs": [],
   "source": [
    "busca.passo_busca()"
   ]
  },
  {
   "cell_type": "code",
   "execution_count": 62,
   "metadata": {},
   "outputs": [
    {
     "data": {
      "text/plain": [
       "[(Zerind, 75), (Sibiu, 140), (Timisoara, 118)]"
      ]
     },
     "execution_count": 62,
     "metadata": {},
     "output_type": "execute_result"
    }
   ],
   "source": [
    "busca.fronteira"
   ]
  },
  {
   "cell_type": "code",
   "execution_count": 63,
   "metadata": {},
   "outputs": [
    {
     "data": {
      "text/plain": [
       "['Arad', 'Zerind', 'Sibiu', 'Timisoara']"
      ]
     },
     "execution_count": 63,
     "metadata": {},
     "output_type": "execute_result"
    }
   ],
   "source": [
    "busca.visitados"
   ]
  },
  {
   "cell_type": "code",
   "execution_count": 64,
   "metadata": {},
   "outputs": [],
   "source": [
    "busca.passo_busca()"
   ]
  },
  {
   "cell_type": "code",
   "execution_count": 65,
   "metadata": {},
   "outputs": [
    {
     "data": {
      "text/plain": [
       "[(Zerind, 75), (Sibiu, 140), (Lugoj, 229)]"
      ]
     },
     "execution_count": 65,
     "metadata": {},
     "output_type": "execute_result"
    }
   ],
   "source": [
    "busca.fronteira"
   ]
  },
  {
   "cell_type": "code",
   "execution_count": 66,
   "metadata": {},
   "outputs": [],
   "source": [
    "busca.passo_busca()"
   ]
  },
  {
   "cell_type": "code",
   "execution_count": 67,
   "metadata": {},
   "outputs": [
    {
     "data": {
      "text/plain": [
       "[(Zerind, 75), (Sibiu, 140), (Mehadia, 299)]"
      ]
     },
     "execution_count": 67,
     "metadata": {},
     "output_type": "execute_result"
    }
   ],
   "source": [
    "busca.fronteira"
   ]
  },
  {
   "cell_type": "code",
   "execution_count": 68,
   "metadata": {},
   "outputs": [],
   "source": [
    "busca.passo_busca()"
   ]
  },
  {
   "cell_type": "code",
   "execution_count": 69,
   "metadata": {},
   "outputs": [
    {
     "data": {
      "text/plain": [
       "[(Zerind, 75), (Sibiu, 140), (Drobeta, 374)]"
      ]
     },
     "execution_count": 69,
     "metadata": {},
     "output_type": "execute_result"
    }
   ],
   "source": [
    "busca.fronteira"
   ]
  },
  {
   "cell_type": "code",
   "execution_count": 71,
   "metadata": {},
   "outputs": [],
   "source": [
    "busca.passo_busca()"
   ]
  },
  {
   "cell_type": "code",
   "execution_count": 72,
   "metadata": {},
   "outputs": [
    {
     "data": {
      "text/plain": [
       "[(Zerind, 75), (Oradea, 291), (Fagaras, 239), (Rimnicu Vilcea, 220)]"
      ]
     },
     "execution_count": 72,
     "metadata": {},
     "output_type": "execute_result"
    }
   ],
   "source": [
    "busca.fronteira"
   ]
  },
  {
   "cell_type": "code",
   "execution_count": 73,
   "metadata": {},
   "outputs": [],
   "source": [
    "busca.passo_busca()"
   ]
  },
  {
   "cell_type": "code",
   "execution_count": 74,
   "metadata": {},
   "outputs": [
    {
     "data": {
      "text/plain": [
       "[(Zerind, 75), (Oradea, 291), (Fagaras, 239), (Craiova, 366), (Pitesti, 317)]"
      ]
     },
     "execution_count": 74,
     "metadata": {},
     "output_type": "execute_result"
    }
   ],
   "source": [
    "busca.fronteira"
   ]
  },
  {
   "cell_type": "code",
   "execution_count": 75,
   "metadata": {},
   "outputs": [],
   "source": [
    "busca.passo_busca()"
   ]
  },
  {
   "cell_type": "code",
   "execution_count": 76,
   "metadata": {},
   "outputs": [
    {
     "data": {
      "text/plain": [
       "[(Zerind, 75), (Oradea, 291), (Fagaras, 239), (Craiova, 366), (Bucharest, 418)]"
      ]
     },
     "execution_count": 76,
     "metadata": {},
     "output_type": "execute_result"
    }
   ],
   "source": [
    "busca.fronteira"
   ]
  },
  {
   "cell_type": "code",
   "execution_count": 77,
   "metadata": {},
   "outputs": [],
   "source": [
    "busca.passo_busca()"
   ]
  },
  {
   "cell_type": "code",
   "execution_count": 78,
   "metadata": {},
   "outputs": [
    {
     "data": {
      "text/plain": [
       "[(Zerind, 75),\n",
       " (Oradea, 291),\n",
       " (Fagaras, 239),\n",
       " (Craiova, 366),\n",
       " (Giurgiu, 508),\n",
       " (Urziceni, 503)]"
      ]
     },
     "execution_count": 78,
     "metadata": {},
     "output_type": "execute_result"
    }
   ],
   "source": [
    "busca.fronteira"
   ]
  },
  {
   "cell_type": "code",
   "execution_count": 79,
   "metadata": {},
   "outputs": [],
   "source": [
    "busca.passo_busca()"
   ]
  },
  {
   "cell_type": "code",
   "execution_count": 80,
   "metadata": {},
   "outputs": [
    {
     "data": {
      "text/plain": [
       "[(Zerind, 75),\n",
       " (Oradea, 291),\n",
       " (Fagaras, 239),\n",
       " (Craiova, 366),\n",
       " (Giurgiu, 508),\n",
       " (Vaslui, 645),\n",
       " (Hirsova, 601)]"
      ]
     },
     "execution_count": 80,
     "metadata": {},
     "output_type": "execute_result"
    }
   ],
   "source": [
    "busca.fronteira"
   ]
  },
  {
   "cell_type": "code",
   "execution_count": 82,
   "metadata": {},
   "outputs": [],
   "source": [
    "busca.passo_busca()"
   ]
  },
  {
   "cell_type": "code",
   "execution_count": 83,
   "metadata": {},
   "outputs": [
    {
     "data": {
      "text/plain": [
       "[(Zerind, 75),\n",
       " (Oradea, 291),\n",
       " (Fagaras, 239),\n",
       " (Craiova, 366),\n",
       " (Giurgiu, 508),\n",
       " (Iasi, 737)]"
      ]
     },
     "execution_count": 83,
     "metadata": {},
     "output_type": "execute_result"
    }
   ],
   "source": [
    "busca.fronteira"
   ]
  },
  {
   "cell_type": "code",
   "execution_count": 84,
   "metadata": {},
   "outputs": [],
   "source": [
    "busca.passo_busca()"
   ]
  },
  {
   "cell_type": "code",
   "execution_count": 85,
   "metadata": {},
   "outputs": [
    {
     "data": {
      "text/plain": [
       "[(Zerind, 75),\n",
       " (Oradea, 291),\n",
       " (Fagaras, 239),\n",
       " (Craiova, 366),\n",
       " (Giurgiu, 508),\n",
       " (Neamt, 824)]"
      ]
     },
     "execution_count": 85,
     "metadata": {},
     "output_type": "execute_result"
    }
   ],
   "source": [
    "busca.fronteira"
   ]
  },
  {
   "cell_type": "code",
   "execution_count": 87,
   "metadata": {},
   "outputs": [],
   "source": [
    "busca.passo_busca()"
   ]
  },
  {
   "cell_type": "code",
   "execution_count": 88,
   "metadata": {},
   "outputs": [
    {
     "data": {
      "text/plain": [
       "[(Zerind, 75), (Oradea, 291), (Fagaras, 239), (Craiova, 366)]"
      ]
     },
     "execution_count": 88,
     "metadata": {},
     "output_type": "execute_result"
    }
   ],
   "source": [
    "busca.fronteira"
   ]
  },
  {
   "cell_type": "code",
   "execution_count": 89,
   "metadata": {},
   "outputs": [],
   "source": [
    "busca.passo_busca()"
   ]
  },
  {
   "cell_type": "code",
   "execution_count": 90,
   "metadata": {},
   "outputs": [
    {
     "data": {
      "text/plain": [
       "[(Zerind, 75), (Oradea, 291), (Fagaras, 239)]"
      ]
     },
     "execution_count": 90,
     "metadata": {},
     "output_type": "execute_result"
    }
   ],
   "source": [
    "busca.fronteira"
   ]
  },
  {
   "cell_type": "code",
   "execution_count": 91,
   "metadata": {},
   "outputs": [],
   "source": [
    "busca.passo_busca()"
   ]
  },
  {
   "cell_type": "code",
   "execution_count": 92,
   "metadata": {},
   "outputs": [
    {
     "data": {
      "text/plain": [
       "[(Zerind, 75), (Oradea, 291)]"
      ]
     },
     "execution_count": 92,
     "metadata": {},
     "output_type": "execute_result"
    }
   ],
   "source": [
    "busca.fronteira"
   ]
  },
  {
   "cell_type": "code",
   "execution_count": 93,
   "metadata": {},
   "outputs": [],
   "source": [
    "busca.passo_busca()"
   ]
  },
  {
   "cell_type": "code",
   "execution_count": 94,
   "metadata": {},
   "outputs": [
    {
     "data": {
      "text/plain": [
       "[(Zerind, 75)]"
      ]
     },
     "execution_count": 94,
     "metadata": {},
     "output_type": "execute_result"
    }
   ],
   "source": [
    "busca.fronteira"
   ]
  },
  {
   "cell_type": "code",
   "execution_count": 95,
   "metadata": {},
   "outputs": [
    {
     "data": {
      "text/plain": [
       "2"
      ]
     },
     "execution_count": 95,
     "metadata": {},
     "output_type": "execute_result"
    }
   ],
   "source": [
    "busca.situacao"
   ]
  },
  {
   "cell_type": "code",
   "execution_count": 96,
   "metadata": {},
   "outputs": [
    {
     "data": {
      "text/plain": [
       "[(Arad, 0), (Sibiu, 140), (Oradea, 291)]"
      ]
     },
     "execution_count": 96,
     "metadata": {},
     "output_type": "execute_result"
    }
   ],
   "source": [
    "busca.solucao"
   ]
  },
  {
   "cell_type": "code",
   "execution_count": 97,
   "metadata": {},
   "outputs": [],
   "source": [
    "busca = BuscaProfundidade(problema_romenia)"
   ]
  },
  {
   "cell_type": "code",
   "execution_count": 101,
   "metadata": {},
   "outputs": [
    {
     "name": "stdout",
     "output_type": "stream",
     "text": [
      "Busca teve sucesso!\n",
      "Solucao: [(Arad, 0), (Sibiu, 140), (Oradea, 291)]\n"
     ]
    }
   ],
   "source": [
    "busca.executar()"
   ]
  }
 ],
 "metadata": {
  "kernelspec": {
   "display_name": "Python 3",
   "language": "python",
   "name": "python3"
  },
  "language_info": {
   "codemirror_mode": {
    "name": "ipython",
    "version": 3
   },
   "file_extension": ".py",
   "mimetype": "text/x-python",
   "name": "python",
   "nbconvert_exporter": "python",
   "pygments_lexer": "ipython3",
   "version": "3.11.0"
  },
  "orig_nbformat": 4
 },
 "nbformat": 4,
 "nbformat_minor": 2
}
