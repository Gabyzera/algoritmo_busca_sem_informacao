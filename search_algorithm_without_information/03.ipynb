{
 "cells": [
  {
   "attachments": {},
   "cell_type": "markdown",
   "metadata": {},
   "source": [
    "# Questão 3\n",
    "Usando a implementação de busca em profundidade desenvolvida para a questão anterior, resolva o problema de busca de rotas na Romênia (de Arad a Bucareste), usando os dados do livro e que estão disponíveis no código-fonte. Mostre o passo a passo da solução através da busca em profundidade e como a sequência de nós explorados difere da busca em largura."
   ]
  },
  {
   "attachments": {},
   "cell_type": "markdown",
   "metadata": {},
   "source": [
    "  - Implementação de busca em profundidade:"
   ]
  },
  {
   "cell_type": "code",
   "execution_count": 1,
   "metadata": {},
   "outputs": [],
   "source": [
    "def acao(destino, custo):\n",
    "  return {'destino': destino, 'custo': custo}\n",
    "\n",
    "#definicao dos estados da Romenia com as cidades e as cidades conectadas a cada uma\n",
    "estados_romenia = [\n",
    "  {'estado': 'Arad',\n",
    "    'acoes': [acao('Zerind', 75), acao('Sibiu', 140), acao('Timisoara', 118)]},\n",
    "  {'estado': 'Zerind',\n",
    "    'acoes': [acao('Arad', 75), acao('Oradea', 71)]},\n",
    "  {'estado': 'Sibiu',\n",
    "    'acoes': [acao('Arad', 140), acao('Oradea', 151), acao('Fagaras', 99), acao('Rimnicu Vilcea', 80)]},\n",
    "  {'estado': 'Timisoara',\n",
    "    'acoes': [acao('Arad', 118), acao('Lugoj', 111)]},\n",
    "  {'estado': 'Oradea',\n",
    "    'acoes': [acao('Zerind', 71), acao('Sibiu', 151)]},\n",
    "  {'estado': 'Fagaras',\n",
    "    'acoes': [acao('Sibiu', 99), acao('Bucharest', 211)]},\n",
    "  {'estado': 'Rimnicu Vilcea',\n",
    "    'acoes': [acao('Sibiu', 80), acao('Craiova', 146), acao('Pitesti', 97)]},\n",
    "  {'estado': 'Lugoj',\n",
    "    'acoes': [acao('Timisoara', 111), acao('Mehadia', 70)]},\n",
    "  {'estado':'Bucharest',\n",
    "    'acoes': [acao('Fagaras', 211), acao('Pitesti', 101), acao('Giurgiu', 90), acao('Urziceni', 85)]},\n",
    "  {'estado': 'Craiova',\n",
    "    'acoes': [acao('Drobeta', 120), acao('Rimnicu Vilcea', 146), acao('Pitesti', 138)]},\n",
    "  {'estado': 'Pitesti',\n",
    "    'acoes': [acao('Craiova', 138), acao('Rimnicu Vilcea', 97), acao('Bucharest', 101)]},\n",
    "  {'estado': 'Mehadia',\n",
    "    'acoes': [acao('Lugoj', 70), acao('Drobeta', 75)]},\n",
    "  {'estado': 'Giurgiu', \n",
    "    'acoes': [acao('Bucharest', 90)]},\n",
    "  {'estado': 'Urziceni',\n",
    "    'acoes': [acao('Bucharest', 85), acao('Vaslui', 142), acao('Hirsova', 98)]},\n",
    "  {'estado': 'Vaslui',\n",
    "    'acoes': [acao('Urziceni', 142), acao('Iasi', 92)]},\n",
    "  {'estado': 'Iasi',\n",
    "    'acoes': [acao('Vaslui', 92), acao('Neamt', 87)]}, \n",
    "  {'evento': 'Neamt',\n",
    "    'acoes': [acao('Iasi', 87)]}]\n",
    "\n",
    "class No:\n",
    "  def __init__(self, estado, custo, pai, acao):\n",
    "    self.estado =  estado\n",
    "    self.custo = custo\n",
    "    self.pai = pai\n",
    "    self.acao = acao\n",
    "  \n",
    "  def __str__(self):\n",
    "    return f'({self.estado}, {self.custo})'\n",
    "  \n",
    "  def __repr__(self):\n",
    "    return self.__str__()\n",
    "  \n",
    "  def filhos(self, problema):\n",
    "    espaco_acoes = next(e for e in problema.espaco_estados if e['estado'] == self.estado)\n",
    "    \n",
    "    resultado = []\n",
    "    for acao in espaco_acoes['acoes']:\n",
    "      filho = No(acao['destino'], self.custo + acao['custo'], self, acao['destino'])\n",
    "      resultado.append(filho)\n",
    "      \n",
    "    return resultado\n",
    "  \n",
    "  def constroi_solucao(self):\n",
    "    no_atual = self \n",
    "    solucao = [no_atual]\n",
    "    while no_atual.pai != None:\n",
    "      no_atual = no_atual.pai\n",
    "      solucao.insert(0, no_atual)\n",
    "    return solucao\n",
    "    \n",
    "class Problema:\n",
    "  def __init__(self, espaco_estados, inicial, objetivo):\n",
    "    self.espaco_estados = espaco_estados\n",
    "    self.inicial = inicial\n",
    "    self.objetivo = objetivo\n",
    "    \n",
    "busca_iniciando = 0\n",
    "busca_falha = 1\n",
    "busca_sucesso = 2\n",
    "busca_em_curso = 3\n",
    "\n",
    "class BuscaProfundidade:\n",
    "  def __init__(self, problema):\n",
    "    self.problema = problema\n",
    "    self.fronteira = [problema.inicial]\n",
    "    self.visitados = [problema.inicial.estado]\n",
    "    self.solucao = []\n",
    "    self.situacao = busca_iniciando\n",
    "    \n",
    "  def executar(self):\n",
    "        while self.situacao != busca_falha and self.situacao != busca_sucesso:\n",
    "            self.passo_busca()\n",
    "\n",
    "        if self.situacao == busca_falha:\n",
    "            print(\"Busca falhou!\")\n",
    "            \n",
    "        elif self.situacao == busca_sucesso:\n",
    "            print(\"Busca teve sucesso!\")\n",
    "            print(f\"Solucao: {self.solucao}\")\n",
    "            \n",
    "        return \n",
    "          \n",
    "  def passo_busca(self):\n",
    "    if (self.situacao == busca_falha):\n",
    "      print(\"Busca falhou!\")\n",
    "      return\n",
    "    \n",
    "    if (self.situacao == busca_sucesso):\n",
    "      print(\"Busca chegou ao objetivo com sucesso!\")\n",
    "      return\n",
    "    \n",
    "    try: \n",
    "      # utilizacao do pop para fila FIFO\n",
    "      no = self.fronteira.pop(-1)\n",
    "    except IndexError:\n",
    "      self.situacao = busca_falha \n",
    "      return\n",
    "    \n",
    "    # faz teste do objetivo \n",
    "    if self.problema.objetivo(no):\n",
    "      self.situacao = busca_sucesso\n",
    "      self.solucao = no.constroi_solucao()\n",
    "      return \n",
    "      \n",
    "    # obtem os filhos do no \n",
    "    for filho in no.filhos(self.problema):\n",
    "      if (filho not in self.fronteira) and (filho.estado not in self.visitados):\n",
    "        self.fronteira.append(filho)\n",
    "        self.visitados.append(filho.estado)\n",
    "\n",
    "no_arad = No('Arad', 0, None, None)\n",
    "problema_romenia = Problema(estados_romenia, \n",
    "                            no_arad,\n",
    "                            lambda no: no.estado == 'Bucharest')"
   ]
  },
  {
   "cell_type": "code",
   "execution_count": 2,
   "metadata": {},
   "outputs": [],
   "source": [
    "busca = BuscaProfundidade(problema_romenia)"
   ]
  },
  {
   "cell_type": "code",
   "execution_count": 3,
   "metadata": {},
   "outputs": [
    {
     "data": {
      "text/plain": [
       "<__main__.BuscaProfundidade at 0x262a6fcb050>"
      ]
     },
     "execution_count": 3,
     "metadata": {},
     "output_type": "execute_result"
    }
   ],
   "source": [
    "busca"
   ]
  },
  {
   "cell_type": "code",
   "execution_count": 4,
   "metadata": {},
   "outputs": [
    {
     "data": {
      "text/plain": [
       "(Arad, 0)"
      ]
     },
     "execution_count": 4,
     "metadata": {},
     "output_type": "execute_result"
    }
   ],
   "source": [
    "busca.problema.inicial"
   ]
  },
  {
   "cell_type": "code",
   "execution_count": 5,
   "metadata": {},
   "outputs": [
    {
     "data": {
      "text/plain": [
       "'Arad'"
      ]
     },
     "execution_count": 5,
     "metadata": {},
     "output_type": "execute_result"
    }
   ],
   "source": [
    "busca.problema.inicial.estado"
   ]
  },
  {
   "cell_type": "code",
   "execution_count": 6,
   "metadata": {},
   "outputs": [
    {
     "data": {
      "text/plain": [
       "[(Arad, 0)]"
      ]
     },
     "execution_count": 6,
     "metadata": {},
     "output_type": "execute_result"
    }
   ],
   "source": [
    "busca.fronteira"
   ]
  },
  {
   "cell_type": "code",
   "execution_count": 7,
   "metadata": {},
   "outputs": [
    {
     "data": {
      "text/plain": [
       "[(Zerind, 75), (Sibiu, 140), (Timisoara, 118)]"
      ]
     },
     "execution_count": 7,
     "metadata": {},
     "output_type": "execute_result"
    }
   ],
   "source": [
    "busca.passo_busca()\n",
    "busca.fronteira"
   ]
  },
  {
   "cell_type": "code",
   "execution_count": 8,
   "metadata": {},
   "outputs": [
    {
     "data": {
      "text/plain": [
       "[(Zerind, 75), (Sibiu, 140), (Lugoj, 229)]"
      ]
     },
     "execution_count": 8,
     "metadata": {},
     "output_type": "execute_result"
    }
   ],
   "source": [
    "busca.passo_busca()\n",
    "busca.fronteira"
   ]
  },
  {
   "cell_type": "code",
   "execution_count": 9,
   "metadata": {},
   "outputs": [
    {
     "data": {
      "text/plain": [
       "[(Zerind, 75), (Sibiu, 140), (Mehadia, 299)]"
      ]
     },
     "execution_count": 9,
     "metadata": {},
     "output_type": "execute_result"
    }
   ],
   "source": [
    "busca.passo_busca()\n",
    "busca.fronteira"
   ]
  },
  {
   "cell_type": "code",
   "execution_count": 10,
   "metadata": {},
   "outputs": [
    {
     "data": {
      "text/plain": [
       "[(Zerind, 75), (Sibiu, 140), (Drobeta, 374)]"
      ]
     },
     "execution_count": 10,
     "metadata": {},
     "output_type": "execute_result"
    }
   ],
   "source": [
    "busca.passo_busca()\n",
    "busca.fronteira"
   ]
  },
  {
   "cell_type": "code",
   "execution_count": 12,
   "metadata": {},
   "outputs": [
    {
     "data": {
      "text/plain": [
       "[(Zerind, 75), (Oradea, 291), (Fagaras, 239), (Rimnicu Vilcea, 220)]"
      ]
     },
     "execution_count": 12,
     "metadata": {},
     "output_type": "execute_result"
    }
   ],
   "source": [
    "busca.passo_busca()\n",
    "busca.fronteira"
   ]
  },
  {
   "cell_type": "code",
   "execution_count": 13,
   "metadata": {},
   "outputs": [
    {
     "data": {
      "text/plain": [
       "[(Zerind, 75), (Oradea, 291), (Fagaras, 239), (Craiova, 366), (Pitesti, 317)]"
      ]
     },
     "execution_count": 13,
     "metadata": {},
     "output_type": "execute_result"
    }
   ],
   "source": [
    "busca.passo_busca()\n",
    "busca.fronteira"
   ]
  },
  {
   "cell_type": "code",
   "execution_count": 14,
   "metadata": {},
   "outputs": [
    {
     "data": {
      "text/plain": [
       "[(Zerind, 75), (Oradea, 291), (Fagaras, 239), (Craiova, 366), (Bucharest, 418)]"
      ]
     },
     "execution_count": 14,
     "metadata": {},
     "output_type": "execute_result"
    }
   ],
   "source": [
    "busca.passo_busca()\n",
    "busca.fronteira"
   ]
  },
  {
   "cell_type": "code",
   "execution_count": 16,
   "metadata": {},
   "outputs": [
    {
     "data": {
      "text/plain": [
       "[(Zerind, 75), (Oradea, 291), (Fagaras, 239), (Craiova, 366)]"
      ]
     },
     "execution_count": 16,
     "metadata": {},
     "output_type": "execute_result"
    }
   ],
   "source": [
    "busca.passo_busca()\n",
    "busca.fronteira"
   ]
  },
  {
   "cell_type": "code",
   "execution_count": 17,
   "metadata": {},
   "outputs": [
    {
     "data": {
      "text/plain": [
       "2"
      ]
     },
     "execution_count": 17,
     "metadata": {},
     "output_type": "execute_result"
    }
   ],
   "source": [
    "busca.situacao"
   ]
  },
  {
   "cell_type": "code",
   "execution_count": 18,
   "metadata": {},
   "outputs": [
    {
     "data": {
      "text/plain": [
       "[(Arad, 0),\n",
       " (Sibiu, 140),\n",
       " (Rimnicu Vilcea, 220),\n",
       " (Pitesti, 317),\n",
       " (Bucharest, 418)]"
      ]
     },
     "execution_count": 18,
     "metadata": {},
     "output_type": "execute_result"
    }
   ],
   "source": [
    "busca.solucao"
   ]
  },
  {
   "cell_type": "code",
   "execution_count": 19,
   "metadata": {},
   "outputs": [],
   "source": [
    "busca = BuscaProfundidade(problema_romenia)"
   ]
  },
  {
   "cell_type": "code",
   "execution_count": 22,
   "metadata": {},
   "outputs": [
    {
     "name": "stdout",
     "output_type": "stream",
     "text": [
      "Busca teve sucesso!\n",
      "Solucao: [(Arad, 0), (Sibiu, 140), (Rimnicu Vilcea, 220), (Pitesti, 317), (Bucharest, 418)]\n"
     ]
    }
   ],
   "source": [
    "busca.executar()"
   ]
  },
  {
   "attachments": {},
   "cell_type": "markdown",
   "metadata": {},
   "source": [
    "- Implementação de busca em largura:"
   ]
  },
  {
   "cell_type": "code",
   "execution_count": 23,
   "metadata": {},
   "outputs": [],
   "source": [
    "def acao(destino, custo):\n",
    "  return {'destino': destino, 'custo': custo}\n",
    "\n",
    "#definicao dos estados da Romenia com as cidades e as cidades conectadas a cada uma\n",
    "estados_romenia = [\n",
    "  {'estado': 'Arad',\n",
    "    'acoes': [acao('Zerind', 75), acao('Sibiu', 140), acao('Timisoara', 118)]},\n",
    "  {'estado': 'Zerind',\n",
    "    'acoes': [acao('Arad', 75), acao('Oradea', 71)]},\n",
    "  {'estado': 'Sibiu',\n",
    "    'acoes': [acao('Arad', 140), acao('Oradea', 151), acao('Fagaras', 99), acao('Rimnicu Vilcea', 80)]},\n",
    "  {'estado': 'Timisoara',\n",
    "    'acoes': [acao('Arad', 118), acao('Lugoj', 111)]},\n",
    "  {'estado': 'Oradea',\n",
    "    'acoes': [acao('Zerind', 71), acao('Sibiu', 151)]},\n",
    "  {'estado': 'Fagaras',\n",
    "    'acoes': [acao('Sibiu', 99), acao('Bucharest', 211)]},\n",
    "  {'estado': 'Rimnicu Vilcea',\n",
    "    'acoes': [acao('Sibiu', 80), acao('Craiova', 146), acao('Pitesti', 97)]},\n",
    "  {'estado': 'Lugoj',\n",
    "    'acoes': [acao('Timisoara', 111), acao('Mehadia', 70)]},\n",
    "  {'estado':'Bucharest',\n",
    "    'acoes': [acao('Fagaras', 211), acao('Pitesti', 101), acao('Giurgiu', 90), acao('Urziceni', 85)]},\n",
    "  {'estado': 'Craiova',\n",
    "    'acoes': [acao('Drobeta', 120), acao('Rimnicu Vilcea', 146), acao('Pitesti', 138)]},\n",
    "  {'estado': 'Pitesti',\n",
    "    'acoes': [acao('Craiova', 138), acao('Rimnicu Vilcea', 97), acao('Bucharest', 101)]},\n",
    "  {'estado': 'Mehadia',\n",
    "    'acoes': [acao('Lugoj', 70), acao('Drobeta', 75)]},\n",
    "  {'estado': 'Giurgiu', \n",
    "    'acoes': [acao('Bucharest', 90)]},\n",
    "  {'estado': 'Urziceni',\n",
    "    'acoes': [acao('Bucharest', 85), acao('Vaslui', 142), acao('Hirsova', 98)]},\n",
    "  {'estado': 'Vaslui',\n",
    "    'acoes': [acao('Urziceni', 142), acao('Iasi', 92)]},\n",
    "  {'estado': 'Iasi',\n",
    "    'acoes': [acao('Vaslui', 92), acao('Neamt', 87)]}, \n",
    "  {'evento': 'Neamt',\n",
    "    'acoes': [acao('Iasi', 87)]}]\n",
    "\n",
    "class No:\n",
    "  def __init__(self, estado, custo, pai, acao):\n",
    "    self.estado =  estado\n",
    "    self.custo = custo\n",
    "    self.pai = pai\n",
    "    self.acao = acao\n",
    "  \n",
    "  def __str__(self):\n",
    "    return f'({self.estado}, {self.custo})'\n",
    "  \n",
    "  def __repr__(self):\n",
    "    return self.__str__()\n",
    "  \n",
    "  def filhos(self, problema):\n",
    "    espaco_acoes = next(e for e in problema.espaco_estados if e['estado'] == self.estado)\n",
    "    \n",
    "    resultado = []\n",
    "    for acao in espaco_acoes['acoes']:\n",
    "      filho = No(acao['destino'], self.custo + acao['custo'], self, acao['destino'])\n",
    "      resultado.append(filho)\n",
    "      \n",
    "    return resultado\n",
    "  \n",
    "  def constroi_solucao(self):\n",
    "    no_atual = self \n",
    "    solucao = [no_atual]\n",
    "    while no_atual.pai != None:\n",
    "      no_atual = no_atual.pai\n",
    "      solucao.insert(0, no_atual)\n",
    "      \n",
    "    return solucao\n",
    "    \n",
    "class Problema:\n",
    "  def __init__(self, espaco_estados, inicial, objetivo):\n",
    "    self.espaco_estados = espaco_estados\n",
    "    self.inicial = inicial\n",
    "    self.objetivo = objetivo\n",
    "    \n",
    "busca_iniciando = 0\n",
    "busca_falha = 1\n",
    "busca_sucesso = 2\n",
    "busca_em_curso = 3\n",
    "\n",
    "class BuscaLargura:\n",
    "  def __init__(self, problema):\n",
    "    self.problema = problema\n",
    "    self.fronteira = [problema.inicial]\n",
    "    self.visitados = [problema.inicial.estado]\n",
    "    self.solucao = []\n",
    "    self.situacao = busca_iniciando\n",
    "    \n",
    "  def executar(self):\n",
    "        while self.situacao != busca_falha and self.situacao != busca_sucesso:\n",
    "            self.passo_busca()\n",
    "\n",
    "        if self.situacao == busca_falha:\n",
    "            print(\"Busca falhou!\")\n",
    "            \n",
    "        elif self.situacao == busca_sucesso:\n",
    "            print(\"Busca teve sucesso!\")\n",
    "            print(f\"Solucao: {self.solucao}\")\n",
    "            \n",
    "        return \n",
    "          \n",
    "  def passo_busca(self):\n",
    "    if (self.situacao == busca_falha):\n",
    "      print(\"Busca falhou!\")\n",
    "      return\n",
    "    \n",
    "    if (self.situacao == busca_sucesso):\n",
    "      print(\"Busca chegou ao objetivo com sucesso!\")\n",
    "      return\n",
    "    \n",
    "    try: \n",
    "      # utilizacao do pop para fila FIFO\n",
    "      no = self.fronteira.pop(0)\n",
    "    except IndexError:\n",
    "      self.situacao = busca_falha \n",
    "      return\n",
    "    \n",
    "    # faz teste do objetivo \n",
    "    if self.problema.objetivo(no):\n",
    "      self.situacao = busca_sucesso\n",
    "      self.solucao = no.constroi_solucao()\n",
    "      return \n",
    "      \n",
    "    # obtem os filhos do no \n",
    "    for filho in no.filhos(self.problema):\n",
    "      if (filho not in self.fronteira) and (filho.estado not in self.visitados):\n",
    "        self.fronteira.append(filho)\n",
    "        self.visitados.append(filho.estado)\n",
    "\n",
    "no_arad = No('Arad', 0, None, None)\n",
    "problema_romenia = Problema(estados_romenia, \n",
    "                            no_arad,\n",
    "                            lambda no: no.estado == 'Oradea')\n",
    "      "
   ]
  },
  {
   "cell_type": "code",
   "execution_count": 24,
   "metadata": {},
   "outputs": [],
   "source": [
    "busca = BuscaLargura(problema_romenia)"
   ]
  },
  {
   "cell_type": "code",
   "execution_count": 25,
   "metadata": {},
   "outputs": [
    {
     "data": {
      "text/plain": [
       "<__main__.BuscaLargura at 0x262a75c1650>"
      ]
     },
     "execution_count": 25,
     "metadata": {},
     "output_type": "execute_result"
    }
   ],
   "source": [
    "busca"
   ]
  },
  {
   "cell_type": "code",
   "execution_count": 26,
   "metadata": {},
   "outputs": [],
   "source": [
    "busca.passo_busca()"
   ]
  },
  {
   "cell_type": "code",
   "execution_count": 27,
   "metadata": {},
   "outputs": [
    {
     "data": {
      "text/plain": [
       "[(Zerind, 75), (Sibiu, 140), (Timisoara, 118)]"
      ]
     },
     "execution_count": 27,
     "metadata": {},
     "output_type": "execute_result"
    }
   ],
   "source": [
    "busca.fronteira"
   ]
  },
  {
   "cell_type": "code",
   "execution_count": 28,
   "metadata": {},
   "outputs": [
    {
     "data": {
      "text/plain": [
       "[(Sibiu, 140), (Timisoara, 118), (Oradea, 146)]"
      ]
     },
     "execution_count": 28,
     "metadata": {},
     "output_type": "execute_result"
    }
   ],
   "source": [
    "busca.passo_busca()\n",
    "busca.fronteira"
   ]
  },
  {
   "cell_type": "code",
   "execution_count": 29,
   "metadata": {},
   "outputs": [
    {
     "data": {
      "text/plain": [
       "[(Timisoara, 118), (Oradea, 146), (Fagaras, 239), (Rimnicu Vilcea, 220)]"
      ]
     },
     "execution_count": 29,
     "metadata": {},
     "output_type": "execute_result"
    }
   ],
   "source": [
    "busca.passo_busca()\n",
    "busca.fronteira"
   ]
  },
  {
   "cell_type": "code",
   "execution_count": 30,
   "metadata": {},
   "outputs": [
    {
     "data": {
      "text/plain": [
       "[(Oradea, 146), (Fagaras, 239), (Rimnicu Vilcea, 220), (Lugoj, 229)]"
      ]
     },
     "execution_count": 30,
     "metadata": {},
     "output_type": "execute_result"
    }
   ],
   "source": [
    "busca.passo_busca()\n",
    "busca.fronteira"
   ]
  },
  {
   "cell_type": "code",
   "execution_count": 31,
   "metadata": {},
   "outputs": [
    {
     "data": {
      "text/plain": [
       "[(Fagaras, 239), (Rimnicu Vilcea, 220), (Lugoj, 229)]"
      ]
     },
     "execution_count": 31,
     "metadata": {},
     "output_type": "execute_result"
    }
   ],
   "source": [
    "busca.passo_busca()\n",
    "busca.fronteira"
   ]
  },
  {
   "cell_type": "code",
   "execution_count": 32,
   "metadata": {},
   "outputs": [
    {
     "name": "stdout",
     "output_type": "stream",
     "text": [
      "Busca chegou ao objetivo com sucesso!\n"
     ]
    },
    {
     "data": {
      "text/plain": [
       "[(Fagaras, 239), (Rimnicu Vilcea, 220), (Lugoj, 229)]"
      ]
     },
     "execution_count": 32,
     "metadata": {},
     "output_type": "execute_result"
    }
   ],
   "source": [
    "busca.passo_busca()\n",
    "busca.fronteira"
   ]
  },
  {
   "cell_type": "code",
   "execution_count": 33,
   "metadata": {},
   "outputs": [
    {
     "name": "stdout",
     "output_type": "stream",
     "text": [
      "Busca chegou ao objetivo com sucesso!\n"
     ]
    },
    {
     "data": {
      "text/plain": [
       "[(Fagaras, 239), (Rimnicu Vilcea, 220), (Lugoj, 229)]"
      ]
     },
     "execution_count": 33,
     "metadata": {},
     "output_type": "execute_result"
    }
   ],
   "source": [
    "busca.passo_busca()\n",
    "busca.fronteira"
   ]
  },
  {
   "cell_type": "code",
   "execution_count": 34,
   "metadata": {},
   "outputs": [
    {
     "name": "stdout",
     "output_type": "stream",
     "text": [
      "Busca chegou ao objetivo com sucesso!\n"
     ]
    },
    {
     "data": {
      "text/plain": [
       "[(Fagaras, 239), (Rimnicu Vilcea, 220), (Lugoj, 229)]"
      ]
     },
     "execution_count": 34,
     "metadata": {},
     "output_type": "execute_result"
    }
   ],
   "source": [
    "busca.passo_busca()\n",
    "busca.fronteira"
   ]
  },
  {
   "cell_type": "code",
   "execution_count": 35,
   "metadata": {},
   "outputs": [
    {
     "name": "stdout",
     "output_type": "stream",
     "text": [
      "Busca chegou ao objetivo com sucesso!\n"
     ]
    },
    {
     "data": {
      "text/plain": [
       "[(Fagaras, 239), (Rimnicu Vilcea, 220), (Lugoj, 229)]"
      ]
     },
     "execution_count": 35,
     "metadata": {},
     "output_type": "execute_result"
    }
   ],
   "source": [
    "busca.passo_busca()\n",
    "busca.fronteira"
   ]
  },
  {
   "cell_type": "code",
   "execution_count": 36,
   "metadata": {},
   "outputs": [
    {
     "data": {
      "text/plain": [
       "2"
      ]
     },
     "execution_count": 36,
     "metadata": {},
     "output_type": "execute_result"
    }
   ],
   "source": [
    "busca.situacao"
   ]
  },
  {
   "cell_type": "code",
   "execution_count": 37,
   "metadata": {},
   "outputs": [
    {
     "data": {
      "text/plain": [
       "[(Arad, 0), (Zerind, 75), (Oradea, 146)]"
      ]
     },
     "execution_count": 37,
     "metadata": {},
     "output_type": "execute_result"
    }
   ],
   "source": [
    "busca.solucao"
   ]
  },
  {
   "cell_type": "code",
   "execution_count": 38,
   "metadata": {},
   "outputs": [],
   "source": [
    "busca = BuscaLargura(problema_romenia)"
   ]
  },
  {
   "cell_type": "code",
   "execution_count": 39,
   "metadata": {},
   "outputs": [
    {
     "name": "stdout",
     "output_type": "stream",
     "text": [
      "Busca teve sucesso!\n",
      "Solucao: [(Arad, 0), (Zerind, 75), (Oradea, 146)]\n"
     ]
    }
   ],
   "source": [
    "busca.executar()"
   ]
  }
 ],
 "metadata": {
  "kernelspec": {
   "display_name": "Python 3",
   "language": "python",
   "name": "python3"
  },
  "language_info": {
   "codemirror_mode": {
    "name": "ipython",
    "version": 3
   },
   "file_extension": ".py",
   "mimetype": "text/x-python",
   "name": "python",
   "nbconvert_exporter": "python",
   "pygments_lexer": "ipython3",
   "version": "3.11.0"
  },
  "orig_nbformat": 4
 },
 "nbformat": 4,
 "nbformat_minor": 2
}
