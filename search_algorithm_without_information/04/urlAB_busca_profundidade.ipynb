{
 "cells": [
  {
   "attachments": {},
   "cell_type": "markdown",
   "metadata": {},
   "source": [
    "# Questão 04\n",
    "Escolha um outro problema que pode ser resolvido por busca e resolva-o utilizando busca em largura e busca em profundidade. Mostre as mudanças que foram necessárias no código e o passo-a-passo da solução."
   ]
  },
  {
   "cell_type": "code",
   "execution_count": 31,
   "metadata": {},
   "outputs": [],
   "source": [
    "def acao(destino, custo):\n",
    "    return {'destino': destino, 'custo': custo }\n",
    "\n",
    "estados_url = [\n",
    "    { 'estado': 'Americanas.com',\n",
    "      'acoes': [acao('G1.globo.com', 10), acao('UFPB.com.br', 10)]},\n",
    "\n",
    "    { 'estado': 'G1.globo.com',\n",
    "      'acoes': [acao('Wikepedia.com', 10)] },\n",
    "\n",
    "    { 'estado': 'Wikepedia.com',\n",
    "      'acoes': [acao('Facebook.com', 10), acao('Twitter.com', 10)] },\n",
    "\n",
    "    { 'estado': 'Facebook.com',\n",
    "      'acoes': [acao('Instagram.com', 10)] },\n",
    "\n",
    "    { 'estado': 'Instagram.com',\n",
    "      'acoes': [acao('Twitter.com', 10)] },\n",
    "\n",
    "    { 'estado': 'Twitter.com',\n",
    "      'acoes': [acao('UFPB.com.br', 10)] },\n",
    "\n",
    "    { 'estado': 'UFPB.com.br',\n",
    "      'acoes': [acao('PortalCorreio.com', 10), acao('Facebook.com', 10)] },\n",
    "\n",
    "    { 'estado': 'PortalCorreio.com',\n",
    "      'acoes': [acao('Youtube.com', 10)] },\n",
    "\n",
    "    { 'estado': 'Youtube.com',\n",
    "      'acoes': [acao('Bet.com', 10)] },\n",
    "\n",
    "    { 'estado': 'Bet.com',\n",
    "      'acoes': [acao('outro.com', 10)] }]\n",
    "\n",
    "\n",
    "class No:\n",
    "    def __init__(self, estado, custo, pai, acao):\n",
    "        self.estado = estado\n",
    "        self.custo = custo\n",
    "        self.pai = pai\n",
    "        self.acao = acao\n",
    "\n",
    "    def __str__(self):\n",
    "        return f'({self.estado}, {self.custo})'\n",
    "\n",
    "    def __repr__(self):\n",
    "        return self.__str__()\n",
    "\n",
    "    def filhos(self, problema):\n",
    "        espaco_acoes = next(e for e in problema.espaco_estados if e['estado'] == self.estado)\n",
    "\n",
    "        resultado = []\n",
    "        for acao in espaco_acoes['acoes']:\n",
    "            filho = No(acao['destino'], self.custo + acao['custo'], self, acao['destino'])\n",
    "            resultado.append(filho)\n",
    "\n",
    "        return resultado\n",
    "\n",
    "    def constroi_solucao(self):\n",
    "        no_atual = self\n",
    "        solucao = [no_atual]\n",
    "        while no_atual.pai != None:\n",
    "            no_atual = no_atual.pai\n",
    "            solucao.insert(0, no_atual)\n",
    "        return solucao\n",
    "\n",
    "class Problema:\n",
    "    def __init__(self, espaco_estados, inicial, objetivo):\n",
    "        self.espaco_estados = espaco_estados\n",
    "        self.inicial = inicial\n",
    "        self.objetivo = objetivo\n",
    "\n",
    "\n",
    "busca_iniciando = 0\n",
    "busca_falha = 1\n",
    "busca_sucesso = 2\n",
    "busca_em_curso = 3\n",
    "\n",
    "class BuscaProfundidade:\n",
    "    def __init__(self, problema):\n",
    "        self.problema = problema\n",
    "        self.fronteira = [problema.inicial]\n",
    "        self.visitados = [problema.inicial.estado]\n",
    "        self.solucao = []\n",
    "        self.situacao = busca_iniciando\n",
    "\n",
    "    def executar(self):\n",
    "        while self.situacao != busca_falha and self.situacao != busca_sucesso:\n",
    "            self.passo_busca()\n",
    "\n",
    "        if self.situacao == busca_falha:\n",
    "            print(\"Busca falhou\")\n",
    "        elif self.situacao == busca_sucesso:\n",
    "            print(\"Busca teve sucesso\")\n",
    "            print(f\"Solucao: {self.solucao}\")\n",
    "\n",
    "        return\n",
    "\n",
    "    def passo_busca(self):\n",
    "        if (self.situacao == busca_falha):\n",
    "            print(\"Busca falhou\")\n",
    "            return\n",
    "\n",
    "        if (self.situacao == busca_sucesso):\n",
    "            print(\"Busca chegou ao objetivo com sucesso\")\n",
    "            return\n",
    "\n",
    "        try:\n",
    "            no = self.fronteira.pop(-1)\n",
    "        except IndexError:\n",
    "            self.situacao = busca_falha\n",
    "            return\n",
    "\n",
    "        # faz teste do objetivo\n",
    "        if self.problema.objetivo(no):\n",
    "            self.situacao = busca_sucesso\n",
    "            self.solucao = no.constroi_solucao()\n",
    "            return\n",
    "\n",
    "        # obtem os filhos do no\n",
    "        for filho in no.filhos(self.problema):\n",
    "            if (filho not in self.fronteira) and (filho.estado not in self.visitados):\n",
    "                self.fronteira.append(filho)\n",
    "                self.visitados.append(filho.estado)\n",
    "\n",
    "        return\n",
    "\n",
    "no_a = No('Americanas.com', 0, None, None)\n",
    "\n",
    "problema_urlAB = Problema(estados_url,\n",
    "                            no_a,\n",
    "                            lambda no: no.estado == 'Bet.com')"
   ]
  },
  {
   "cell_type": "code",
   "execution_count": 32,
   "metadata": {},
   "outputs": [
    {
     "data": {
      "text/plain": [
       "(Americanas.com, 0)"
      ]
     },
     "execution_count": 32,
     "metadata": {},
     "output_type": "execute_result"
    }
   ],
   "source": [
    "no_a"
   ]
  },
  {
   "cell_type": "code",
   "execution_count": 33,
   "metadata": {},
   "outputs": [
    {
     "data": {
      "text/plain": [
       "<__main__.Problema at 0x191bcaf0690>"
      ]
     },
     "execution_count": 33,
     "metadata": {},
     "output_type": "execute_result"
    }
   ],
   "source": [
    "problema_urlAB"
   ]
  },
  {
   "cell_type": "code",
   "execution_count": 34,
   "metadata": {},
   "outputs": [],
   "source": [
    "busca = BuscaProfundidade(problema_urlAB)"
   ]
  },
  {
   "cell_type": "code",
   "execution_count": 35,
   "metadata": {},
   "outputs": [
    {
     "data": {
      "text/plain": [
       "'Americanas.com'"
      ]
     },
     "execution_count": 35,
     "metadata": {},
     "output_type": "execute_result"
    }
   ],
   "source": [
    "busca.problema.inicial.estado"
   ]
  },
  {
   "cell_type": "code",
   "execution_count": 36,
   "metadata": {},
   "outputs": [
    {
     "data": {
      "text/plain": [
       "[(Americanas.com, 0)]"
      ]
     },
     "execution_count": 36,
     "metadata": {},
     "output_type": "execute_result"
    }
   ],
   "source": [
    "busca.fronteira"
   ]
  },
  {
   "cell_type": "code",
   "execution_count": 37,
   "metadata": {},
   "outputs": [],
   "source": [
    "busca.passo_busca()"
   ]
  },
  {
   "cell_type": "code",
   "execution_count": 38,
   "metadata": {},
   "outputs": [
    {
     "data": {
      "text/plain": [
       "[(G1.globo.com, 10), (UFPB.com.br, 10)]"
      ]
     },
     "execution_count": 38,
     "metadata": {},
     "output_type": "execute_result"
    }
   ],
   "source": [
    "busca.fronteira"
   ]
  },
  {
   "cell_type": "code",
   "execution_count": 39,
   "metadata": {},
   "outputs": [
    {
     "data": {
      "text/plain": [
       "['Americanas.com', 'G1.globo.com', 'UFPB.com.br']"
      ]
     },
     "execution_count": 39,
     "metadata": {},
     "output_type": "execute_result"
    }
   ],
   "source": [
    "busca.visitados"
   ]
  },
  {
   "cell_type": "code",
   "execution_count": 40,
   "metadata": {},
   "outputs": [
    {
     "data": {
      "text/plain": [
       "[(G1.globo.com, 10), (PortalCorreio.com, 20), (Facebook.com, 20)]"
      ]
     },
     "execution_count": 40,
     "metadata": {},
     "output_type": "execute_result"
    }
   ],
   "source": [
    "busca.passo_busca()\n",
    "busca.fronteira"
   ]
  },
  {
   "cell_type": "code",
   "execution_count": 41,
   "metadata": {},
   "outputs": [
    {
     "data": {
      "text/plain": [
       "[(G1.globo.com, 10), (PortalCorreio.com, 20), (Instagram.com, 30)]"
      ]
     },
     "execution_count": 41,
     "metadata": {},
     "output_type": "execute_result"
    }
   ],
   "source": [
    "busca.passo_busca()\n",
    "busca.fronteira"
   ]
  },
  {
   "cell_type": "code",
   "execution_count": 42,
   "metadata": {},
   "outputs": [
    {
     "data": {
      "text/plain": [
       "[(G1.globo.com, 10), (PortalCorreio.com, 20), (Twitter.com, 40)]"
      ]
     },
     "execution_count": 42,
     "metadata": {},
     "output_type": "execute_result"
    }
   ],
   "source": [
    "busca.passo_busca()\n",
    "busca.fronteira"
   ]
  },
  {
   "cell_type": "code",
   "execution_count": 43,
   "metadata": {},
   "outputs": [
    {
     "data": {
      "text/plain": [
       "[(G1.globo.com, 10), (PortalCorreio.com, 20)]"
      ]
     },
     "execution_count": 43,
     "metadata": {},
     "output_type": "execute_result"
    }
   ],
   "source": [
    "busca.passo_busca()\n",
    "busca.fronteira"
   ]
  },
  {
   "cell_type": "code",
   "execution_count": 44,
   "metadata": {},
   "outputs": [
    {
     "data": {
      "text/plain": [
       "[(G1.globo.com, 10), (Youtube.com, 30)]"
      ]
     },
     "execution_count": 44,
     "metadata": {},
     "output_type": "execute_result"
    }
   ],
   "source": [
    "busca.passo_busca()\n",
    "busca.fronteira"
   ]
  },
  {
   "cell_type": "code",
   "execution_count": 45,
   "metadata": {},
   "outputs": [
    {
     "data": {
      "text/plain": [
       "[(G1.globo.com, 10), (Bet.com, 40)]"
      ]
     },
     "execution_count": 45,
     "metadata": {},
     "output_type": "execute_result"
    }
   ],
   "source": [
    "busca.passo_busca()\n",
    "busca.fronteira"
   ]
  },
  {
   "cell_type": "code",
   "execution_count": 46,
   "metadata": {},
   "outputs": [
    {
     "data": {
      "text/plain": [
       "[(G1.globo.com, 10)]"
      ]
     },
     "execution_count": 46,
     "metadata": {},
     "output_type": "execute_result"
    }
   ],
   "source": [
    "busca.passo_busca()\n",
    "busca.fronteira"
   ]
  },
  {
   "cell_type": "code",
   "execution_count": 47,
   "metadata": {},
   "outputs": [
    {
     "data": {
      "text/plain": [
       "2"
      ]
     },
     "execution_count": 47,
     "metadata": {},
     "output_type": "execute_result"
    }
   ],
   "source": [
    "busca.situacao\n"
   ]
  },
  {
   "cell_type": "code",
   "execution_count": 48,
   "metadata": {},
   "outputs": [],
   "source": [
    "busca = BuscaProfundidade(problema_urlAB)"
   ]
  },
  {
   "cell_type": "code",
   "execution_count": 49,
   "metadata": {},
   "outputs": [
    {
     "name": "stdout",
     "output_type": "stream",
     "text": [
      "Busca teve sucesso\n",
      "Solucao: [(Americanas.com, 0), (UFPB.com.br, 10), (PortalCorreio.com, 20), (Youtube.com, 30), (Bet.com, 40)]\n"
     ]
    }
   ],
   "source": [
    "busca.executar()"
   ]
  }
 ],
 "metadata": {
  "kernelspec": {
   "display_name": "Python 3",
   "language": "python",
   "name": "python3"
  },
  "language_info": {
   "codemirror_mode": {
    "name": "ipython",
    "version": 3
   },
   "file_extension": ".py",
   "mimetype": "text/x-python",
   "name": "python",
   "nbconvert_exporter": "python",
   "pygments_lexer": "ipython3",
   "version": "3.11.0"
  },
  "orig_nbformat": 4
 },
 "nbformat": 4,
 "nbformat_minor": 2
}
